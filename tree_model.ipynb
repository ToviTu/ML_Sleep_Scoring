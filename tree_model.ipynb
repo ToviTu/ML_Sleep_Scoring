{
 "cells": [
  {
   "cell_type": "code",
   "execution_count": 2,
   "metadata": {},
   "outputs": [],
   "source": [
    "import numpy as np\n",
    "import pandas as pd\n",
    "import pickle as pkl\n",
    "import seaborn as sns\n",
    "import matplotlib.pyplot as plt\n",
    "import glob\n",
    "from sklearn.impute import SimpleImputer\n",
    "import scipy as scp\n",
    "\n",
    "from copy import deepcopy\n",
    "from natsort import natsorted\n",
    "\n",
    "from matplotlib import rcParams\n",
    "\n",
    "# figure size in inches\n",
    "rcParams['figure.figsize'] = 25, 5"
   ]
  },
  {
   "cell_type": "code",
   "execution_count": 3,
   "metadata": {},
   "outputs": [],
   "source": [
    "sleep_scoring_df = pd.DataFrame()\n",
    "\n",
    "pkl_filez = natsorted(glob.glob('/media/HlabShare/james/LFP_and_motion_pkls/*.pkl'))\n",
    "for pklfile in pkl_filez:\n",
    "    tmpdf = []\n",
    "    tmpdf = pd.read_pickle(pklfile)\n",
    "\n",
    "    sleep_scoring_df = pd.concat([sleep_scoring_df, tmpdf])"
   ]
  },
  {
   "cell_type": "code",
   "execution_count": 4,
   "metadata": {},
   "outputs": [],
   "source": [
    "file = sleep_scoring_df.query('AnimalName == \"CAF37\"').sleep_labels.to_numpy()\n",
    "np.save('/media/HlabShare/Sleep_Scoring/CAF00037/caf3708272020/CAF00037_SleepStates.npy', file)"
   ]
  },
  {
   "cell_type": "markdown",
   "metadata": {},
   "source": [
    "## Smoothing"
   ]
  },
  {
   "cell_type": "code",
   "execution_count": 5,
   "metadata": {},
   "outputs": [],
   "source": [
    "# Extract features and sleep labels from dataframe\n",
    "delta = sleep_scoring_df['delta'].to_numpy()\n",
    "theta = sleep_scoring_df['theta'].to_numpy()\n",
    "alpha = sleep_scoring_df['alpha'].to_numpy()\n",
    "beta = sleep_scoring_df['beta'].to_numpy()\n",
    "sigma = sleep_scoring_df['sigma'].to_numpy()\n",
    "motion = sleep_scoring_df['motion'].to_numpy()\n",
    "gamma = sleep_scoring_df['gamma'].to_numpy()\n",
    "thetaratio = sleep_scoring_df['thetaratio'].to_numpy()\n",
    "\n",
    "y = sleep_scoring_df['sleep_labels'].to_numpy()\n",
    "\n",
    "# # Assuming delta is a NumPy array\n",
    "# window_size = 10  # Adjust as desired\n",
    "\n",
    "# # Compute rolling mean using convolution\n",
    "# #motion_rolling_mean = np.convolve(np.pad(sleep_scoring_df['motion'].to_numpy(), (window_size-1, 0), mode='constant'), np.ones(window_size)/window_size, mode='valid')\n",
    "# delta_rolling_mean = np.convolve(np.pad(delta, (window_size-1, 0), mode='constant'), np.ones(window_size)/window_size, mode='valid')\n",
    "# theta_rolling_mean = np.convolve(np.pad(theta, (window_size-1, 0), mode='constant'), np.ones(window_size)/window_size, mode='valid')\n",
    "# alpha_rolling_mean = np.convolve(np.pad(alpha, (window_size-1, 0), mode='constant'), np.ones(window_size)/window_size, mode='valid')\n",
    "# beta_rolling_mean = np.convolve(np.pad(beta, (window_size-1, 0), mode='constant'), np.ones(window_size)/window_size, mode='valid')\n",
    "# gamma_rolling_mean = np.convolve(np.pad(gamma, (window_size-1, 0), mode='constant'), np.ones(window_size)/window_size, mode='valid')\n",
    "# sigma_rolling_mean = np.convolve(np.pad(sigma, (window_size-1, 0), mode='constant'), np.ones(window_size)/window_size, mode='valid')\n",
    "# thetaratio_rolling_mean = np.convolve(np.pad(thetaratio, (window_size-1, 0), mode='constant'), np.ones(window_size)/window_size, mode='valid')\n",
    "# motion_rolling_mean = np.convolve(np.pad(motion, (window_size-1, 0), mode='constant'), np.ones(window_size)/window_size, mode='valid')"
   ]
  },
  {
   "cell_type": "code",
   "execution_count": 6,
   "metadata": {},
   "outputs": [
    {
     "data": {
      "text/html": [
       "<div>\n",
       "<style scoped>\n",
       "    .dataframe tbody tr th:only-of-type {\n",
       "        vertical-align: middle;\n",
       "    }\n",
       "\n",
       "    .dataframe tbody tr th {\n",
       "        vertical-align: top;\n",
       "    }\n",
       "\n",
       "    .dataframe thead th {\n",
       "        text-align: right;\n",
       "    }\n",
       "</style>\n",
       "<table border=\"1\" class=\"dataframe\">\n",
       "  <thead>\n",
       "    <tr style=\"text-align: right;\">\n",
       "      <th></th>\n",
       "      <th>delta</th>\n",
       "      <th>theta</th>\n",
       "      <th>alpha</th>\n",
       "      <th>beta</th>\n",
       "      <th>gamma</th>\n",
       "      <th>sigma</th>\n",
       "      <th>thetaratio</th>\n",
       "      <th>motion</th>\n",
       "      <th>Geno</th>\n",
       "      <th>animal</th>\n",
       "      <th>label</th>\n",
       "    </tr>\n",
       "  </thead>\n",
       "  <tbody>\n",
       "    <tr>\n",
       "      <th>6255</th>\n",
       "      <td>0.132964</td>\n",
       "      <td>0.317876</td>\n",
       "      <td>0.195525</td>\n",
       "      <td>0.106984</td>\n",
       "      <td>0.210907</td>\n",
       "      <td>0.214581</td>\n",
       "      <td>0.578032</td>\n",
       "      <td>0.197174</td>\n",
       "      <td>TE4</td>\n",
       "      <td>CAF22</td>\n",
       "      <td>1.0</td>\n",
       "    </tr>\n",
       "    <tr>\n",
       "      <th>6256</th>\n",
       "      <td>0.203083</td>\n",
       "      <td>0.320782</td>\n",
       "      <td>0.081938</td>\n",
       "      <td>0.169842</td>\n",
       "      <td>0.178196</td>\n",
       "      <td>0.229804</td>\n",
       "      <td>0.577780</td>\n",
       "      <td>0.197174</td>\n",
       "      <td>TE4</td>\n",
       "      <td>CAF22</td>\n",
       "      <td>1.0</td>\n",
       "    </tr>\n",
       "    <tr>\n",
       "      <th>6257</th>\n",
       "      <td>0.178307</td>\n",
       "      <td>0.419322</td>\n",
       "      <td>0.135473</td>\n",
       "      <td>0.111788</td>\n",
       "      <td>0.111710</td>\n",
       "      <td>0.235228</td>\n",
       "      <td>0.463011</td>\n",
       "      <td>0.197174</td>\n",
       "      <td>TE4</td>\n",
       "      <td>CAF22</td>\n",
       "      <td>1.0</td>\n",
       "    </tr>\n",
       "    <tr>\n",
       "      <th>6258</th>\n",
       "      <td>0.106156</td>\n",
       "      <td>0.423963</td>\n",
       "      <td>0.152961</td>\n",
       "      <td>0.177532</td>\n",
       "      <td>0.121641</td>\n",
       "      <td>0.245720</td>\n",
       "      <td>0.650618</td>\n",
       "      <td>0.297513</td>\n",
       "      <td>TE4</td>\n",
       "      <td>CAF22</td>\n",
       "      <td>1.0</td>\n",
       "    </tr>\n",
       "    <tr>\n",
       "      <th>6259</th>\n",
       "      <td>0.179107</td>\n",
       "      <td>0.181379</td>\n",
       "      <td>0.150880</td>\n",
       "      <td>0.250386</td>\n",
       "      <td>0.185226</td>\n",
       "      <td>0.326581</td>\n",
       "      <td>0.451634</td>\n",
       "      <td>0.297513</td>\n",
       "      <td>TE4</td>\n",
       "      <td>CAF22</td>\n",
       "      <td>1.0</td>\n",
       "    </tr>\n",
       "  </tbody>\n",
       "</table>\n",
       "</div>"
      ],
      "text/plain": [
       "         delta     theta     alpha      beta     gamma     sigma  thetaratio  \\\n",
       "6255  0.132964  0.317876  0.195525  0.106984  0.210907  0.214581    0.578032   \n",
       "6256  0.203083  0.320782  0.081938  0.169842  0.178196  0.229804    0.577780   \n",
       "6257  0.178307  0.419322  0.135473  0.111788  0.111710  0.235228    0.463011   \n",
       "6258  0.106156  0.423963  0.152961  0.177532  0.121641  0.245720    0.650618   \n",
       "6259  0.179107  0.181379  0.150880  0.250386  0.185226  0.326581    0.451634   \n",
       "\n",
       "        motion Geno animal  label  \n",
       "6255  0.197174  TE4  CAF22    1.0  \n",
       "6256  0.197174  TE4  CAF22    1.0  \n",
       "6257  0.197174  TE4  CAF22    1.0  \n",
       "6258  0.297513  TE4  CAF22    1.0  \n",
       "6259  0.297513  TE4  CAF22    1.0  "
      ]
     },
     "execution_count": 6,
     "metadata": {},
     "output_type": "execute_result"
    }
   ],
   "source": [
    "df_RM = pd.DataFrame(\n",
    "    {\n",
    "        'delta' : delta,\n",
    "        'theta' : theta,\n",
    "        'alpha' : alpha,\n",
    "        'beta' : beta,\n",
    "        'gamma' : gamma,\n",
    "        'sigma' : sigma,\n",
    "        'thetaratio': thetaratio,\n",
    "        'motion': motion,\n",
    "        'Geno' : sleep_scoring_df.Geno,\n",
    "        'animal': sleep_scoring_df.AnimalName,\n",
    "        'label' : sleep_scoring_df.sleep_labels\n",
    "    }\n",
    ")\n",
    "df_RM = df_RM.dropna()\n",
    "df_RM.head()"
   ]
  },
  {
   "cell_type": "markdown",
   "metadata": {},
   "source": [
    "We first work with unsmoothed data to preserve all signal"
   ]
  },
  {
   "cell_type": "markdown",
   "metadata": {},
   "source": [
    "## Distribution"
   ]
  },
  {
   "cell_type": "code",
   "execution_count": 7,
   "metadata": {},
   "outputs": [
    {
     "data": {
      "text/html": [
       "<div>\n",
       "<style scoped>\n",
       "    .dataframe tbody tr th:only-of-type {\n",
       "        vertical-align: middle;\n",
       "    }\n",
       "\n",
       "    .dataframe tbody tr th {\n",
       "        vertical-align: top;\n",
       "    }\n",
       "\n",
       "    .dataframe thead th {\n",
       "        text-align: right;\n",
       "    }\n",
       "</style>\n",
       "<table border=\"1\" class=\"dataframe\">\n",
       "  <thead>\n",
       "    <tr style=\"text-align: right;\">\n",
       "      <th></th>\n",
       "      <th>delta</th>\n",
       "      <th>theta</th>\n",
       "      <th>alpha</th>\n",
       "      <th>beta</th>\n",
       "      <th>gamma</th>\n",
       "      <th>sigma</th>\n",
       "      <th>thetaratio</th>\n",
       "      <th>motion</th>\n",
       "    </tr>\n",
       "  </thead>\n",
       "  <tbody>\n",
       "    <tr>\n",
       "      <th>6255</th>\n",
       "      <td>0.132964</td>\n",
       "      <td>0.317876</td>\n",
       "      <td>0.195525</td>\n",
       "      <td>0.106984</td>\n",
       "      <td>0.210907</td>\n",
       "      <td>0.214581</td>\n",
       "      <td>0.578032</td>\n",
       "      <td>0.197174</td>\n",
       "    </tr>\n",
       "    <tr>\n",
       "      <th>6256</th>\n",
       "      <td>0.203083</td>\n",
       "      <td>0.320782</td>\n",
       "      <td>0.081938</td>\n",
       "      <td>0.169842</td>\n",
       "      <td>0.178196</td>\n",
       "      <td>0.229804</td>\n",
       "      <td>0.577780</td>\n",
       "      <td>0.197174</td>\n",
       "    </tr>\n",
       "    <tr>\n",
       "      <th>6257</th>\n",
       "      <td>0.178307</td>\n",
       "      <td>0.419322</td>\n",
       "      <td>0.135473</td>\n",
       "      <td>0.111788</td>\n",
       "      <td>0.111710</td>\n",
       "      <td>0.235228</td>\n",
       "      <td>0.463011</td>\n",
       "      <td>0.197174</td>\n",
       "    </tr>\n",
       "    <tr>\n",
       "      <th>6258</th>\n",
       "      <td>0.106156</td>\n",
       "      <td>0.423963</td>\n",
       "      <td>0.152961</td>\n",
       "      <td>0.177532</td>\n",
       "      <td>0.121641</td>\n",
       "      <td>0.245720</td>\n",
       "      <td>0.650618</td>\n",
       "      <td>0.297513</td>\n",
       "    </tr>\n",
       "    <tr>\n",
       "      <th>6259</th>\n",
       "      <td>0.179107</td>\n",
       "      <td>0.181379</td>\n",
       "      <td>0.150880</td>\n",
       "      <td>0.250386</td>\n",
       "      <td>0.185226</td>\n",
       "      <td>0.326581</td>\n",
       "      <td>0.451634</td>\n",
       "      <td>0.297513</td>\n",
       "    </tr>\n",
       "    <tr>\n",
       "      <th>...</th>\n",
       "      <td>...</td>\n",
       "      <td>...</td>\n",
       "      <td>...</td>\n",
       "      <td>...</td>\n",
       "      <td>...</td>\n",
       "      <td>...</td>\n",
       "      <td>...</td>\n",
       "      <td>...</td>\n",
       "    </tr>\n",
       "    <tr>\n",
       "      <th>21595</th>\n",
       "      <td>0.091608</td>\n",
       "      <td>0.224623</td>\n",
       "      <td>0.150012</td>\n",
       "      <td>0.128977</td>\n",
       "      <td>0.268029</td>\n",
       "      <td>0.196986</td>\n",
       "      <td>0.578727</td>\n",
       "      <td>2.820798</td>\n",
       "    </tr>\n",
       "    <tr>\n",
       "      <th>21596</th>\n",
       "      <td>0.127490</td>\n",
       "      <td>0.097448</td>\n",
       "      <td>0.157401</td>\n",
       "      <td>0.185524</td>\n",
       "      <td>0.309124</td>\n",
       "      <td>0.248394</td>\n",
       "      <td>0.426000</td>\n",
       "      <td>1.464038</td>\n",
       "    </tr>\n",
       "    <tr>\n",
       "      <th>21597</th>\n",
       "      <td>0.099309</td>\n",
       "      <td>0.144937</td>\n",
       "      <td>0.116190</td>\n",
       "      <td>0.176484</td>\n",
       "      <td>0.318599</td>\n",
       "      <td>0.210886</td>\n",
       "      <td>0.648881</td>\n",
       "      <td>8.445077</td>\n",
       "    </tr>\n",
       "    <tr>\n",
       "      <th>21598</th>\n",
       "      <td>0.095021</td>\n",
       "      <td>0.165270</td>\n",
       "      <td>0.089287</td>\n",
       "      <td>0.141055</td>\n",
       "      <td>0.386741</td>\n",
       "      <td>0.183163</td>\n",
       "      <td>0.511976</td>\n",
       "      <td>5.856945</td>\n",
       "    </tr>\n",
       "    <tr>\n",
       "      <th>21599</th>\n",
       "      <td>0.000000</td>\n",
       "      <td>0.000000</td>\n",
       "      <td>0.000000</td>\n",
       "      <td>0.000000</td>\n",
       "      <td>0.000000</td>\n",
       "      <td>0.000000</td>\n",
       "      <td>0.000000</td>\n",
       "      <td>2.824142</td>\n",
       "    </tr>\n",
       "  </tbody>\n",
       "</table>\n",
       "<p>790834 rows × 8 columns</p>\n",
       "</div>"
      ],
      "text/plain": [
       "          delta     theta     alpha      beta     gamma     sigma  thetaratio  \\\n",
       "6255   0.132964  0.317876  0.195525  0.106984  0.210907  0.214581    0.578032   \n",
       "6256   0.203083  0.320782  0.081938  0.169842  0.178196  0.229804    0.577780   \n",
       "6257   0.178307  0.419322  0.135473  0.111788  0.111710  0.235228    0.463011   \n",
       "6258   0.106156  0.423963  0.152961  0.177532  0.121641  0.245720    0.650618   \n",
       "6259   0.179107  0.181379  0.150880  0.250386  0.185226  0.326581    0.451634   \n",
       "...         ...       ...       ...       ...       ...       ...         ...   \n",
       "21595  0.091608  0.224623  0.150012  0.128977  0.268029  0.196986    0.578727   \n",
       "21596  0.127490  0.097448  0.157401  0.185524  0.309124  0.248394    0.426000   \n",
       "21597  0.099309  0.144937  0.116190  0.176484  0.318599  0.210886    0.648881   \n",
       "21598  0.095021  0.165270  0.089287  0.141055  0.386741  0.183163    0.511976   \n",
       "21599  0.000000  0.000000  0.000000  0.000000  0.000000  0.000000    0.000000   \n",
       "\n",
       "         motion  \n",
       "6255   0.197174  \n",
       "6256   0.197174  \n",
       "6257   0.197174  \n",
       "6258   0.297513  \n",
       "6259   0.297513  \n",
       "...         ...  \n",
       "21595  2.820798  \n",
       "21596  1.464038  \n",
       "21597  8.445077  \n",
       "21598  5.856945  \n",
       "21599  2.824142  \n",
       "\n",
       "[790834 rows x 8 columns]"
      ]
     },
     "execution_count": 7,
     "metadata": {},
     "output_type": "execute_result"
    }
   ],
   "source": [
    "wave_df = df_RM.iloc[:,0:-3]\n",
    "wave_df"
   ]
  },
  {
   "cell_type": "markdown",
   "metadata": {},
   "source": [
    "## Train test split"
   ]
  },
  {
   "cell_type": "code",
   "execution_count": 8,
   "metadata": {},
   "outputs": [],
   "source": [
    "X = df_RM.iloc[:, :-5]\n",
    "Y = df_RM['label']\n",
    "\n",
    "data = pd.concat((X,Y), axis=1)"
   ]
  },
  {
   "cell_type": "code",
   "execution_count": 9,
   "metadata": {},
   "outputs": [],
   "source": [
    "index = np.where(np.array([1]*int(X.shape[0]*0.8))==1)\n",
    "MASK = np.zeros(X.shape[0], dtype='bool')\n",
    "MASK[index] = 1\n",
    "\n",
    "train_data = data[MASK]\n",
    "test_data = data[~MASK]"
   ]
  },
  {
   "cell_type": "markdown",
   "metadata": {},
   "source": [
    "## Feature generation for training data"
   ]
  },
  {
   "cell_type": "code",
   "execution_count": 10,
   "metadata": {},
   "outputs": [
    {
     "name": "stderr",
     "output_type": "stream",
     "text": [
      "/hlabhome/wg-mjames/tmp/CCTM/ipykernel_24772/470945732.py:3: SettingWithCopyWarning: \n",
      "A value is trying to be set on a copy of a slice from a DataFrame.\n",
      "Try using .loc[row_indexer,col_indexer] = value instead\n",
      "\n",
      "See the caveats in the documentation: https://pandas.pydata.org/pandas-docs/stable/user_guide/indexing.html#returning-a-view-versus-a-copy\n",
      "  train_data['epoch'] = epoch\n"
     ]
    }
   ],
   "source": [
    "window_size = 15\n",
    "epoch = [num // window_size for num in range(len(train_data))]\n",
    "train_data['epoch'] = epoch"
   ]
  },
  {
   "cell_type": "code",
   "execution_count": 11,
   "metadata": {},
   "outputs": [],
   "source": [
    "good_epoch = np.where(train_data.groupby('epoch')['label'].apply(lambda x: np.all(x.iloc[0]==x)))[0]\n",
    "#good_epoch = [True] * train_data.shape[0]\n",
    "\n",
    "train_data = train_data[[True if epoch in good_epoch else False for epoch in train_data.epoch]]\n",
    "train_data_epoch = train_data.set_index('epoch')"
   ]
  },
  {
   "cell_type": "code",
   "execution_count": 12,
   "metadata": {},
   "outputs": [],
   "source": [
    "means = train_data_epoch.groupby('epoch').mean()\n",
    "stds = train_data_epoch.groupby('epoch').std()\n",
    "medians = train_data_epoch.groupby('epoch').median()\n",
    "\n",
    "means_wide = train_data_epoch.groupby(train_data_epoch.index / 3).mean()\n",
    "stds_wide = train_data_epoch.groupby(train_data_epoch.index / 3).std()\n",
    "medians_wide = train_data_epoch.groupby(train_data_epoch.index / 3).median()\n",
    "\n",
    "y_train = train_data_epoch.groupby('epoch').first()['label']\n",
    "\n",
    "# means = train_data.rolling(window_size).mean()\n",
    "# stds = train_data.rolling(window_size).std()\n",
    "# medians = train_data.rolling(window_size).median()\n",
    "\n",
    "# means_wide = train_data.rolling(window_size * 3).mean()\n",
    "# stds_wide = train_data.rolling(window_size * 3).std()\n",
    "# medians_wide = train_data.rolling(window_size * 3).median()\n",
    "\n",
    "# y_train = train_data['label']"
   ]
  },
  {
   "cell_type": "code",
   "execution_count": 13,
   "metadata": {},
   "outputs": [],
   "source": [
    "# Train-test split\n",
    "X = pd.concat(\n",
    "        [\n",
    "            medians,\n",
    "            stds\n",
    "        ],\n",
    "        axis=1\n",
    "    ).values\n",
    "\n",
    "X_wide = pd.concat(\n",
    "        [\n",
    "            medians_wide,\n",
    "            stds_wide\n",
    "        ],\n",
    "        axis=1\n",
    "    ).values\n",
    "\n",
    "X_train = np.concatenate((X, X_wide), axis=1)\n",
    "nans = np.any(np.isnan(X_train), axis=1)\n",
    "X_train = X_train[~nans, :]\n",
    "y_train = y_train[~nans]"
   ]
  },
  {
   "cell_type": "markdown",
   "metadata": {},
   "source": [
    "## Feature generation for test data"
   ]
  },
  {
   "cell_type": "code",
   "execution_count": 14,
   "metadata": {},
   "outputs": [],
   "source": [
    "means = test_data.rolling(window_size).mean()\n",
    "stds = test_data.rolling(window_size).std()\n",
    "medians = test_data.rolling(window_size).median()\n",
    "\n",
    "means_wide = test_data.rolling(window_size * 3).mean()\n",
    "stds_wide = test_data.rolling(window_size * 3).std()\n",
    "medians_wide = test_data.rolling(window_size * 3).median()\n",
    "\n",
    "y_test = test_data['label']"
   ]
  },
  {
   "cell_type": "code",
   "execution_count": 15,
   "metadata": {},
   "outputs": [],
   "source": [
    "X = pd.concat(\n",
    "        [\n",
    "            medians,\n",
    "            stds\n",
    "        ],\n",
    "        axis=1\n",
    "    ).values\n",
    "\n",
    "X_wide = pd.concat(\n",
    "        [\n",
    "            medians_wide,\n",
    "            stds_wide\n",
    "        ],\n",
    "        axis=1\n",
    "    ).values\n",
    "\n",
    "X_test = np.concatenate((X, X_wide), axis=1)\n",
    "nans = np.any(np.isnan(X_test), axis=1)\n",
    "X_test = X_test[~nans, :]\n",
    "y_test = y_test[~nans]"
   ]
  },
  {
   "cell_type": "markdown",
   "metadata": {},
   "source": [
    "## Model Building\n"
   ]
  },
  {
   "cell_type": "markdown",
   "metadata": {},
   "source": [
    "## Validation on the Raw Data\n",
    "\n",
    "Dataset separation:\n",
    "- Training data: 80% of the raw data; resampled to get a balanced dataset\n",
    "- Test data: 20% of the raw data; keep as it is"
   ]
  },
  {
   "cell_type": "markdown",
   "metadata": {},
   "source": [
    "Resample the training data using SMOTE and under-sampling"
   ]
  },
  {
   "cell_type": "code",
   "execution_count": 16,
   "metadata": {},
   "outputs": [],
   "source": [
    "from imblearn.under_sampling import RandomUnderSampler\n",
    "\n",
    "resampler = RandomUnderSampler()\n",
    "X_train, y_train = resampler.fit_resample(X_train, y_train)"
   ]
  },
  {
   "cell_type": "markdown",
   "metadata": {},
   "source": [
    "Fit a gradient boosting tree"
   ]
  },
  {
   "cell_type": "code",
   "execution_count": 23,
   "metadata": {},
   "outputs": [],
   "source": [
    "from sklearn.ensemble import GradientBoostingClassifier\n",
    "from sklearn.svm import SVC\n",
    "from sklearn.naive_bayes import GaussianNB\n",
    "from sklearn.gaussian_process import GaussianProcessClassifier\n",
    "from sklearn.gaussian_process.kernels import RBF\n",
    "kernel = 2 * RBF(1)\n",
    "\n",
    "#model_tree = SVC(kernel='rbf', gamma='scale', C=0.05)\n",
    "model_tree = GaussianProcessClassifier(kernel=kernel, random_state=42)\n",
    "model_tree.fit(X_train, y_train)\n",
    "Y_inter = model_tree.predict(X_test)"
   ]
  },
  {
   "cell_type": "markdown",
   "metadata": {},
   "source": [
    "Evaluate the base model"
   ]
  },
  {
   "cell_type": "code",
   "execution_count": 24,
   "metadata": {},
   "outputs": [
    {
     "data": {
      "text/plain": [
       "Text(0.5, 1.0, 'GBTree')"
      ]
     },
     "execution_count": 24,
     "metadata": {},
     "output_type": "execute_result"
    },
    {
     "data": {
      "image/png": "[encoded data removed]",
      "text/plain": [
       "<Figure size 288x288 with 2 Axes>"
      ]
     },
     "metadata": {
      "needs_background": "light"
     },
     "output_type": "display_data"
    }
   ],
   "source": [
    "from sklearn.metrics import ConfusionMatrixDisplay, confusion_matrix\n",
    "\n",
    "font = {\n",
    "    'weight' : 'bold',\n",
    "    'size'   : 12\n",
    "    }\n",
    "plt.rc('font', **font)\n",
    "\n",
    "fig, ax= plt.subplots(figsize=(4, 4))\n",
    "cm = confusion_matrix(y_test, Y_inter)\n",
    "cm2 = cm.copy().astype('float')\n",
    "for row_id in range(cm.shape[0]):\n",
    "    for col_id in range(cm.shape[1]):\n",
    "        cm2[row_id, col_id] = cm[row_id, col_id] / cm[row_id].sum()\n",
    "dis = ConfusionMatrixDisplay(confusion_matrix=cm2, display_labels=['Wake','NREM','REM'], )\n",
    "dis.plot(cmap=plt.cm.gist_heat, ax=ax);\n",
    "# plt.gca().set_xlabel('Human')\n",
    "# plt.gca().set_ylabel('Classifier')\n",
    "plt.title(\"GBTree\")"
   ]
  },
  {
   "cell_type": "code",
   "execution_count": 25,
   "metadata": {},
   "outputs": [
    {
     "data": {
      "text/plain": [
       "<AxesSubplot:ylabel='label'>"
      ]
     },
     "execution_count": 25,
     "metadata": {},
     "output_type": "execute_result"
    },
    {
     "data": {
      "image/png": "[encoded data removed]",
      "text/plain": [
       "<Figure size 576x288 with 2 Axes>"
      ]
     },
     "metadata": {
      "needs_background": "light"
     },
     "output_type": "display_data"
    }
   ],
   "source": [
    "step = 9\n",
    "step_width = 3600\n",
    "fig, axs = plt.subplots(2, 1, figsize=(8, 4))\n",
    "sns.lineplot(\n",
    "    data = Y_inter[step * step_width: (step+1) * step_width], ax = axs[1]\n",
    ")\n",
    "sns.lineplot(\n",
    "    data = y_test[step * step_width: (step+1) * step_width], ax = axs[0]\n",
    ")"
   ]
  },
  {
   "cell_type": "code",
   "execution_count": 21,
   "metadata": {},
   "outputs": [],
   "source": [
    "from sklearn.neighbors import KNeighborsClassifier\n",
    "\n",
    "model_smooth = KNeighborsClassifier(4)\n",
    "\n",
    "inter_y_hat = pd.DataFrame({\n",
    "    'y_inter': Y_inter,\n",
    "    'time': range(Y_inter.shape[0])\n",
    "})\n",
    "model_smooth.fit(inter_y_hat.time.values[:,np.newaxis], inter_y_hat.y_inter)\n",
    "Y_hat = model_smooth.predict(inter_y_hat.time.values[:,np.newaxis])"
   ]
  },
  {
   "cell_type": "code",
   "execution_count": 22,
   "metadata": {},
   "outputs": [
    {
     "data": {
      "image/png": "[encoded data removed]",
      "text/plain": [
       "<Figure size 288x288 with 2 Axes>"
      ]
     },
     "metadata": {
      "needs_background": "light"
     },
     "output_type": "display_data"
    }
   ],
   "source": [
    "font = {\n",
    "    'weight' : 'bold',\n",
    "    'size'   : 12\n",
    "    }\n",
    "plt.rc('font', **font)\n",
    "\n",
    "fig, ax= plt.subplots(figsize=(4, 4))\n",
    "cm = confusion_matrix(y_test, Y_hat)\n",
    "cm2 = cm.copy().astype('float')\n",
    "for row_id in range(cm.shape[0]):\n",
    "    for col_id in range(cm.shape[1]):\n",
    "        cm2[row_id, col_id] = cm[row_id, col_id] / cm[row_id].sum()\n",
    "dis = ConfusionMatrixDisplay(confusion_matrix=cm2, display_labels=['Wake','NREM','REM'], )\n",
    "dis.plot(cmap=plt.cm.gist_heat, ax=ax);\n",
    "plt.title(\"GBTree & KNN Smoother\");\n",
    "#plt.savefig(\"./data/GBT_acc.pdf\", format='pdf')"
   ]
  },
  {
   "cell_type": "code",
   "execution_count": null,
   "metadata": {},
   "outputs": [],
   "source": [
    "#END"
   ]
  }
 ],
 "metadata": {
  "kernelspec": {
   "display_name": "Python 3 (ipykernel)",
   "language": "python",
   "name": "python3"
  },
  "language_info": {
   "codemirror_mode": {
    "name": "ipython",
    "version": 3
   },
   "file_extension": ".py",
   "mimetype": "text/x-python",
   "name": "python",
   "nbconvert_exporter": "python",
   "pygments_lexer": "ipython3",
   "version": "3.8.13"
  }
 },
 "nbformat": 4,
 "nbformat_minor": 2
}
