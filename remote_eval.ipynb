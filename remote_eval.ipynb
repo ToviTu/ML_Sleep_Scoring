{
 "cells": [
  {
   "cell_type": "code",
   "execution_count": 13,
   "metadata": {},
   "outputs": [],
   "source": [
    "import pickle\n",
    "import numpy as np\n",
    "import neuraltoolkit as ntk\n",
    "import glob\n",
    "import csv\n",
    "import os\n",
    "import smart_open\n",
    "import boto3\n",
    "import tqdm\n",
    "import argparse\n",
    "import fnmatch\n",
    "import io\n",
    "import re\n",
    "import tempfile\n",
    "from pathlib import Path\n",
    "from scripts.init import *\n",
    "import pandas as pd"
   ]
  },
  {
   "cell_type": "markdown",
   "metadata": {},
   "source": [
    "- Use this file to check the CNN results\n",
    "\n",
    "First, initialize a client and obtain the prefix to the wanted files."
   ]
  },
  {
   "cell_type": "code",
   "execution_count": 25,
   "metadata": {},
   "outputs": [
    {
     "name": "stdout",
     "output_type": "stream",
     "text": [
      "KDR36_day1\n",
      "per-label-test-set (All Samples) (1295963 samples)\n",
      "   0.91: WAKE            (accuracy) ( 694803 samples)\n",
      "   0.85: NREM            (accuracy) ( 501821 samples)\n",
      "   0.89: REM             (accuracy) (  99339 samples)\n",
      "   0.89: F1 Multiclass  (avg=micro) (1295963 samples)\n",
      "   0.86: F1 Multiclass  (avg=macro) (1295963 samples)\n",
      "   0.89: Balanced Accuracy Score    (1295963 samples)\n",
      "\n",
      "per-label-test-set (All Samples) (1295963 samples)\n",
      "   0.91: WAKE            (accuracy) ( 694803 samples)\n",
      "   0.87: NREM            (accuracy) ( 501821 samples)\n",
      "   0.90: REM             (accuracy) (  99339 samples)\n",
      "   0.89: F1 Multiclass  (avg=micro) (1295963 samples)\n",
      "   0.87: F1 Multiclass  (avg=macro) (1295963 samples)\n",
      "   0.89: Balanced Accuracy Score    (1295963 samples)\n",
      "\n",
      "per-label-test-set (All Samples) (1295963 samples)\n",
      "   0.91: WAKE            (accuracy) ( 694803 samples)\n",
      "   0.86: NREM            (accuracy) ( 501821 samples)\n",
      "   0.90: REM             (accuracy) (  99339 samples)\n",
      "   0.89: F1 Multiclass  (avg=micro) (1295963 samples)\n",
      "   0.87: F1 Multiclass  (avg=macro) (1295963 samples)\n",
      "   0.89: Balanced Accuracy Score    (1295963 samples)\n",
      "\n"
     ]
    }
   ],
   "source": [
    "ANIMAL = ANIMALS_DATASET[-8]\n",
    "\n",
    "client = get_s3_client()\n",
    "summaries = get_animal_file(ANIMAL, client)\n",
    "\n",
    "print(ANIMAL)\n",
    "for summary in summaries:\n",
    "    with smart_open.open(\n",
    "        's3://hengenlab/'+summary, 'r', transport_params=dict(client=client)\n",
    "    ) as f:\n",
    "        print(f.read(375))"
   ]
  },
  {
   "cell_type": "code",
   "execution_count": 16,
   "metadata": {},
   "outputs": [
    {
     "name": "stdout",
     "output_type": "stream",
     "text": [
      "\n",
      "per-label-train-set (All Samples) (0 samples)\n",
      "    NaN: WAKE            (accuracy) (      0 samples)\n",
      "    NaN: NREM            (accuracy) (      0 samples)\n",
      "    NaN: REM             (accuracy) (      0 samples)\n",
      "   0.00: F1 Multiclass  (avg=micro) (      0 samples)\n",
      "    NaN: F1 Multiclass  (avg=macro) (      0 samples)\n",
      "    NaN: Balanced Accuracy Score    (      0 samples)\n",
      "\n",
      "per-video-metrics (All Samples)\n",
      "                                   Passive/   Micro-\n",
      "    WAKE   |   NREM   |   REM    |  Active  |  arousal | video-filename\n",
      "  -------- | -------- | -------- | -------- | -------- | ---------------\n",
      "    0.73   |   0.29   |   0.30   |    NaN   |    NaN   | dummy (test-set)\n",
      "\n",
      "\n",
      "per-label-test-set (Between State Change) (1187963 samples)\n",
      "   0.73: WAKE            (accuracy) ( 970875 samples)\n",
      "   0.29: NREM            (accuracy) ( 185238 samples)\n",
      "   0.30: REM             (accuracy) (  31850 samples)\n",
      "   0.65: F1 Multiclass  (avg=micro) (1187963 samples)\n",
      "   0.39: F1 Multiclass  (avg=macro) (1187963 samples)\n",
      "   0.44: Balanced Accuracy Score    (1187963 samples)\n",
      "\n",
      "per-label-train-set (Between State Change) (0 samples)\n",
      "    NaN: WAKE            (accuracy) (      0 samples)\n",
      "    NaN: NREM            (accuracy) (      0 samples)\n",
      "    NaN: REM             (accuracy) (      0 samples)\n",
      "   0.00: F1 Multiclass  (avg=micro) (      0 samples)\n",
      "    NaN: F1 Multiclass  (avg=macro) (      0 samples)\n",
      "    NaN: Balanced Accuracy Score    (      0 samples)\n",
      "\n",
      "per-video-metrics (Between State Change)\n",
      "                                   Passive/   Micro-\n",
      "    WAKE   |   NREM   |   REM    |  Active  |  arousal | video-filename\n",
      "  -------- | -------- | -------- | -------- | -------- | ---------------\n",
      "    0.73   |   0.29   |   0.30   |    NaN   |    NaN   | dummy (test-set)\n",
      "\n",
      "\n",
      "per-label-test-set (Near State Change) (0 samples)\n",
      "    NaN: WAKE            (accuracy) (      0 samples)\n",
      "    NaN: NREM            (accuracy) (      0 samples)\n",
      "    NaN: REM             (accuracy) (      0 samples)\n",
      "   0.00: F1 Multiclass  (avg=micro) (      0 samples)\n",
      "    NaN: F1 Multiclass  (avg=macro) (      0 samples)\n",
      "    NaN: Balanced Accuracy Score    (      0 samples)\n",
      "\n",
      "per-label-train-set (Near State Change) (0 samples)\n",
      "    NaN: WAKE            (accuracy) (      0 samples)\n",
      "    NaN: NREM            (accuracy) (      0 samples)\n",
      "    NaN: REM             (accuracy) (      0 samples)\n",
      "   0.00: F1 Multiclass  (avg=micro) (      0 samples)\n",
      "    NaN: F1 Multiclass  (avg=macro) (      0 samples)\n",
      "    NaN: Balanced Accuracy Score    (      0 samples)\n",
      "\n",
      "per-video-metrics (Near State Change)\n",
      "                                   Passive/   Micro-\n",
      "    WAKE   |   NREM   |   REM    |  Active  |  arousal | video-filename\n",
      "  -------- | -------- | -------- | -------- | -------- | ---------------\n",
      "     NaN   |    NaN   |    NaN   |    NaN   |    NaN   | dummy (test-set)\n",
      "\n",
      "\n",
      "\n"
     ]
    }
   ],
   "source": [
    "print(f.read())"
   ]
  },
  {
   "cell_type": "code",
   "execution_count": 7,
   "metadata": {},
   "outputs": [],
   "source": [
    "with smart_open.open(\n",
    "    's3://hengenlab/CAF62_day1/Labels/labels_sleepstate_v2.1_CAF62_day1.npz',\n",
    "    'rb',\n",
    "    transport_params=dict(client=client)) as f:\n",
    "    f1 = np.load(f)"
   ]
  },
  {
   "cell_type": "code",
   "execution_count": 8,
   "metadata": {},
   "outputs": [
    {
     "data": {
      "text/plain": [
       "['labels_matrix', 'video_files', 'neural_files']"
      ]
     },
     "execution_count": 8,
     "metadata": {},
     "output_type": "execute_result"
    }
   ],
   "source": [
    "f1.files"
   ]
  },
  {
   "cell_type": "code",
   "execution_count": 9,
   "metadata": {},
   "outputs": [
    {
     "data": {
      "text/plain": [
       "array(['dummy'], dtype='<U5')"
      ]
     },
     "execution_count": 9,
     "metadata": {},
     "output_type": "execute_result"
    }
   ],
   "source": [
    "f1['video_files']"
   ]
  }
 ],
 "metadata": {
  "kernelspec": {
   "display_name": "tovi_dl",
   "language": "python",
   "name": "python3"
  },
  "language_info": {
   "codemirror_mode": {
    "name": "ipython",
    "version": 3
   },
   "file_extension": ".py",
   "mimetype": "text/x-python",
   "name": "python",
   "nbconvert_exporter": "python",
   "pygments_lexer": "ipython3",
   "version": "3.10.11"
  },
  "orig_nbformat": 4
 },
 "nbformat": 4,
 "nbformat_minor": 2
}
