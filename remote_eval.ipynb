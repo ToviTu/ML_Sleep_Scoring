{
 "cells": [
  {
   "cell_type": "code",
   "execution_count": 1,
   "metadata": {},
   "outputs": [],
   "source": [
    "import pickle\n",
    "import numpy as np\n",
    "import neuraltoolkit as ntk\n",
    "import glob\n",
    "import csv\n",
    "import os\n",
    "import smart_open\n",
    "import boto3\n",
    "import tqdm\n",
    "import argparse\n",
    "import fnmatch\n",
    "import io\n",
    "import re\n",
    "import tempfile\n",
    "from pathlib import Path\n",
    "import pandas as pd"
   ]
  },
  {
   "cell_type": "code",
   "execution_count": 2,
   "metadata": {},
   "outputs": [],
   "source": [
    "def get_remote_files(prefix: str):\n",
    "    try:\n",
    "        response = client.list_objects_v2(Bucket=\"hengenlab\", Prefix=prefix)[\"Contents\"]\n",
    "    except:\n",
    "        response = []\n",
    "    return ntk.ntk_videos.natural_sort([file[\"Key\"] for file in response])\n",
    "\n",
    "def get_s3_client():\n",
    "    with open(f\"{Path.home()}/.aws/credentials\", \"r\") as f:\n",
    "        for line in f:\n",
    "            if \"aws_access_key_id\" in line:\n",
    "                id = re.search(r\"\\W(\\w+)\", line).group(1)\n",
    "            if \"aws_secret_access_key\" in line:\n",
    "                key = re.search(r\"\\W(\\w+)\", line).group(1)\n",
    "        return boto3.Session(aws_access_key_id=id, aws_secret_access_key=key).client(\n",
    "            \"s3\", endpoint_url=\"https://s3-central.nrp-nautilus.io\"\n",
    "        )\n",
    "\n",
    "def get_animal_file(animal, client):\n",
    "    contents = client.list_objects_v2(Bucket=\"hengenlab\", Prefix=f'{animal}/Runs/')['Contents']\n",
    "    files = [content['Key'] for content in contents if fnmatch.fnmatch(content['Key'], '*.txt')]\n",
    "    return files\n"
   ]
  },
  {
   "cell_type": "markdown",
   "metadata": {},
   "source": [
    "- Use this file to check the CNN results\n",
    "\n",
    "First, initialize a client and obtain the prefix to the wanted files."
   ]
  },
  {
   "cell_type": "code",
   "execution_count": 3,
   "metadata": {},
   "outputs": [
    {
     "ename": "KeyError",
     "evalue": "'Contents'",
     "output_type": "error",
     "traceback": [
      "\u001b[0;31m---------------------------------------------------------------------------\u001b[0m",
      "\u001b[0;31mKeyError\u001b[0m                                  Traceback (most recent call last)",
      "\u001b[1;32m/hlabhome/wg-mjames/git/Tovi_work/ML_Sleep_Scoring/remote_eval.ipynb Cell 4\u001b[0m line \u001b[0;36m4\n\u001b[1;32m      <a href='vscode-notebook-cell://ssh-remote%2Bmarvin.wustl.edu/hlabhome/wg-mjames/git/Tovi_work/ML_Sleep_Scoring/remote_eval.ipynb#W3sdnNjb2RlLXJlbW90ZQ%3D%3D?line=0'>1</a>\u001b[0m ANIMAL \u001b[39m=\u001b[39m \u001b[39m'\u001b[39m\u001b[39mCAF62_day1\u001b[39m\u001b[39m'\u001b[39m\n\u001b[1;32m      <a href='vscode-notebook-cell://ssh-remote%2Bmarvin.wustl.edu/hlabhome/wg-mjames/git/Tovi_work/ML_Sleep_Scoring/remote_eval.ipynb#W3sdnNjb2RlLXJlbW90ZQ%3D%3D?line=2'>3</a>\u001b[0m client \u001b[39m=\u001b[39m get_s3_client()\n\u001b[0;32m----> <a href='vscode-notebook-cell://ssh-remote%2Bmarvin.wustl.edu/hlabhome/wg-mjames/git/Tovi_work/ML_Sleep_Scoring/remote_eval.ipynb#W3sdnNjb2RlLXJlbW90ZQ%3D%3D?line=3'>4</a>\u001b[0m summaries \u001b[39m=\u001b[39m get_animal_file(ANIMAL, client)\n\u001b[1;32m      <a href='vscode-notebook-cell://ssh-remote%2Bmarvin.wustl.edu/hlabhome/wg-mjames/git/Tovi_work/ML_Sleep_Scoring/remote_eval.ipynb#W3sdnNjb2RlLXJlbW90ZQ%3D%3D?line=5'>6</a>\u001b[0m \u001b[39mfor\u001b[39;00m summary \u001b[39min\u001b[39;00m summaries:\n\u001b[1;32m      <a href='vscode-notebook-cell://ssh-remote%2Bmarvin.wustl.edu/hlabhome/wg-mjames/git/Tovi_work/ML_Sleep_Scoring/remote_eval.ipynb#W3sdnNjb2RlLXJlbW90ZQ%3D%3D?line=6'>7</a>\u001b[0m     \u001b[39mwith\u001b[39;00m smart_open\u001b[39m.\u001b[39mopen(\n\u001b[1;32m      <a href='vscode-notebook-cell://ssh-remote%2Bmarvin.wustl.edu/hlabhome/wg-mjames/git/Tovi_work/ML_Sleep_Scoring/remote_eval.ipynb#W3sdnNjb2RlLXJlbW90ZQ%3D%3D?line=7'>8</a>\u001b[0m         \u001b[39m'\u001b[39m\u001b[39ms3://hengenlab/\u001b[39m\u001b[39m'\u001b[39m\u001b[39m+\u001b[39msummary, \u001b[39m'\u001b[39m\u001b[39mr\u001b[39m\u001b[39m'\u001b[39m, transport_params\u001b[39m=\u001b[39m\u001b[39mdict\u001b[39m(client\u001b[39m=\u001b[39mclient)\n\u001b[1;32m      <a href='vscode-notebook-cell://ssh-remote%2Bmarvin.wustl.edu/hlabhome/wg-mjames/git/Tovi_work/ML_Sleep_Scoring/remote_eval.ipynb#W3sdnNjb2RlLXJlbW90ZQ%3D%3D?line=8'>9</a>\u001b[0m     ) \u001b[39mas\u001b[39;00m f:\n",
      "\u001b[1;32m/hlabhome/wg-mjames/git/Tovi_work/ML_Sleep_Scoring/remote_eval.ipynb Cell 4\u001b[0m line \u001b[0;36m2\n\u001b[1;32m     <a href='vscode-notebook-cell://ssh-remote%2Bmarvin.wustl.edu/hlabhome/wg-mjames/git/Tovi_work/ML_Sleep_Scoring/remote_eval.ipynb#W3sdnNjb2RlLXJlbW90ZQ%3D%3D?line=18'>19</a>\u001b[0m \u001b[39mdef\u001b[39;00m \u001b[39mget_animal_file\u001b[39m(animal, client):\n\u001b[0;32m---> <a href='vscode-notebook-cell://ssh-remote%2Bmarvin.wustl.edu/hlabhome/wg-mjames/git/Tovi_work/ML_Sleep_Scoring/remote_eval.ipynb#W3sdnNjb2RlLXJlbW90ZQ%3D%3D?line=19'>20</a>\u001b[0m     contents \u001b[39m=\u001b[39m client\u001b[39m.\u001b[39;49mlist_objects_v2(Bucket\u001b[39m=\u001b[39;49m\u001b[39m\"\u001b[39;49m\u001b[39mhengenlab\u001b[39;49m\u001b[39m\"\u001b[39;49m, Prefix\u001b[39m=\u001b[39;49m\u001b[39mf\u001b[39;49m\u001b[39m'\u001b[39;49m\u001b[39m{\u001b[39;49;00manimal\u001b[39m}\u001b[39;49;00m\u001b[39m/Runs/\u001b[39;49m\u001b[39m'\u001b[39;49m)[\u001b[39m'\u001b[39;49m\u001b[39mContents\u001b[39;49m\u001b[39m'\u001b[39;49m]\n\u001b[1;32m     <a href='vscode-notebook-cell://ssh-remote%2Bmarvin.wustl.edu/hlabhome/wg-mjames/git/Tovi_work/ML_Sleep_Scoring/remote_eval.ipynb#W3sdnNjb2RlLXJlbW90ZQ%3D%3D?line=20'>21</a>\u001b[0m     files \u001b[39m=\u001b[39m [content[\u001b[39m'\u001b[39m\u001b[39mKey\u001b[39m\u001b[39m'\u001b[39m] \u001b[39mfor\u001b[39;00m content \u001b[39min\u001b[39;00m contents \u001b[39mif\u001b[39;00m fnmatch\u001b[39m.\u001b[39mfnmatch(content[\u001b[39m'\u001b[39m\u001b[39mKey\u001b[39m\u001b[39m'\u001b[39m], \u001b[39m'\u001b[39m\u001b[39m*.txt\u001b[39m\u001b[39m'\u001b[39m)]\n\u001b[1;32m     <a href='vscode-notebook-cell://ssh-remote%2Bmarvin.wustl.edu/hlabhome/wg-mjames/git/Tovi_work/ML_Sleep_Scoring/remote_eval.ipynb#W3sdnNjb2RlLXJlbW90ZQ%3D%3D?line=21'>22</a>\u001b[0m     \u001b[39mreturn\u001b[39;00m files\n",
      "\u001b[0;31mKeyError\u001b[0m: 'Contents'"
     ]
    }
   ],
   "source": [
    "ANIMAL = 'CAF62_day1'\n",
    "\n",
    "client = get_s3_client()\n",
    "summaries = get_animal_file(ANIMAL, client)\n",
    "\n",
    "for summary in summaries:\n",
    "    with smart_open.open(\n",
    "        's3://hengenlab/'+summary, 'r', transport_params=dict(client=client)\n",
    "    ) as f:\n",
    "        print(f.read(375))"
   ]
  },
  {
   "cell_type": "code",
   "execution_count": 52,
   "metadata": {},
   "outputs": [
    {
     "name": "stdout",
     "output_type": "stream",
     "text": [
      "\n",
      "per-label-train-set (All Samples) (0 samples)\n",
      "    NaN: WAKE            (accuracy) (      0 samples)\n",
      "    NaN: NREM            (accuracy) (      0 samples)\n",
      "    NaN: REM             (accuracy) (      0 samples)\n",
      "   0.00: F1 Multiclass  (avg=micro) (      0 samples)\n",
      "    NaN: F1 Multiclass  (avg=macro) (      0 samples)\n",
      "    NaN: Balanced Accuracy Score    (      0 samples)\n",
      "\n",
      "per-video-metrics (All Samples)\n",
      "                                   Passive/   Micro-\n",
      "    WAKE   |   NREM   |   REM    |  Active  |  arousal | video-filename\n",
      "  -------- | -------- | -------- | -------- | -------- | ---------------\n",
      "    0.72   |   0.05   |   0.48   |    NaN   |    NaN   | dummy (test-set)\n",
      "\n",
      "\n",
      "per-label-test-set (Between State Change) (1187963 samples)\n",
      "   0.72: WAKE            (accuracy) ( 970935 samples)\n",
      "   0.05: NREM            (accuracy) ( 185538 samples)\n",
      "   0.48: REM             (accuracy) (  31490 samples)\n",
      "   0.61: F1 Multiclass  (avg=micro) (1187963 samples)\n",
      "   0.32: F1 Multiclass  (avg=macro) (1187963 samples)\n",
      "   0.42: Balanced Accuracy Score    (1187963 samples)\n",
      "\n",
      "per-label-train-set (Between State Change) (0 samples)\n",
      "    NaN: WAKE            (accuracy) (      0 samples)\n",
      "    NaN: NREM            (accuracy) (      0 samples)\n",
      "    NaN: REM             (accuracy) (      0 samples)\n",
      "   0.00: F1 Multiclass  (avg=micro) (      0 samples)\n",
      "    NaN: F1 Multiclass  (avg=macro) (      0 samples)\n",
      "    NaN: Balanced Accuracy Score    (      0 samples)\n",
      "\n",
      "per-video-metrics (Between State Change)\n",
      "                                   Passive/   Micro-\n",
      "    WAKE   |   NREM   |   REM    |  Active  |  arousal | video-filename\n",
      "  -------- | -------- | -------- | -------- | -------- | ---------------\n",
      "    0.72   |   0.05   |   0.48   |    NaN   |    NaN   | dummy (test-set)\n",
      "\n",
      "\n",
      "per-label-test-set (Near State Change) (0 samples)\n",
      "    NaN: WAKE            (accuracy) (      0 samples)\n",
      "    NaN: NREM            (accuracy) (      0 samples)\n",
      "    NaN: REM             (accuracy) (      0 samples)\n",
      "   0.00: F1 Multiclass  (avg=micro) (      0 samples)\n",
      "    NaN: F1 Multiclass  (avg=macro) (      0 samples)\n",
      "    NaN: Balanced Accuracy Score    (      0 samples)\n",
      "\n",
      "per-label-train-set (Near State Change) (0 samples)\n",
      "    NaN: WAKE            (accuracy) (      0 samples)\n",
      "    NaN: NREM            (accuracy) (      0 samples)\n",
      "    NaN: REM             (accuracy) (      0 samples)\n",
      "   0.00: F1 Multiclass  (avg=micro) (      0 samples)\n",
      "    NaN: F1 Multiclass  (avg=macro) (      0 samples)\n",
      "    NaN: Balanced Accuracy Score    (      0 samples)\n",
      "\n",
      "per-video-metrics (Near State Change)\n",
      "                                   Passive/   Micro-\n",
      "    WAKE   |   NREM   |   REM    |  Active  |  arousal | video-filename\n",
      "  -------- | -------- | -------- | -------- | -------- | ---------------\n",
      "     NaN   |    NaN   |    NaN   |    NaN   |    NaN   | dummy (test-set)\n",
      "\n",
      "\n",
      "\n"
     ]
    }
   ],
   "source": [
    "print(f.read())"
   ]
  },
  {
   "cell_type": "code",
   "execution_count": 16,
   "metadata": {},
   "outputs": [],
   "source": [
    "with smart_open.open(\n",
    "    's3://hengenlab/CAF62_day1/Labels/labels_sleepstate_v2.1_CAF62_day1.npz',\n",
    "    'rb',\n",
    "    transport_params=dict(client=client)) as f:\n",
    "    f1 = np.load(f)"
   ]
  },
  {
   "cell_type": "code",
   "execution_count": 17,
   "metadata": {},
   "outputs": [
    {
     "data": {
      "text/plain": [
       "['labels_matrix', 'video_files', 'neural_files']"
      ]
     },
     "execution_count": 17,
     "metadata": {},
     "output_type": "execute_result"
    }
   ],
   "source": [
    "f1.files"
   ]
  },
  {
   "cell_type": "code",
   "execution_count": 19,
   "metadata": {},
   "outputs": [
    {
     "data": {
      "text/plain": [
       "array(['dummy'], dtype='<U5')"
      ]
     },
     "execution_count": 19,
     "metadata": {},
     "output_type": "execute_result"
    }
   ],
   "source": [
    "f1['video_files']"
   ]
  },
  {
   "cell_type": "code",
   "execution_count": null,
   "metadata": {},
   "outputs": [],
   "source": []
  }
 ],
 "metadata": {
  "kernelspec": {
   "display_name": "tovi_dl",
   "language": "python",
   "name": "python3"
  },
  "language_info": {
   "codemirror_mode": {
    "name": "ipython",
    "version": 3
   },
   "file_extension": ".py",
   "mimetype": "text/x-python",
   "name": "python",
   "nbconvert_exporter": "python",
   "pygments_lexer": "ipython3",
   "version": "3.10.11"
  },
  "orig_nbformat": 4
 },
 "nbformat": 4,
 "nbformat_minor": 2
}
